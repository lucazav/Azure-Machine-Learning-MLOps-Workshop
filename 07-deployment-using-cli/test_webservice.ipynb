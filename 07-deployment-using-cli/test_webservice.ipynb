{
 "cells": [
  {
   "cell_type": "markdown",
   "metadata": {},
   "source": [
    "# Test deployed web service"
   ]
  },
  {
   "cell_type": "code",
   "execution_count": null,
   "metadata": {},
   "outputs": [],
   "source": [
    "!pip install requests --upgrade"
   ]
  },
  {
   "cell_type": "markdown",
   "metadata": {},
   "source": [
    "Test with ACI deployment:"
   ]
  },
  {
   "cell_type": "code",
   "execution_count": null,
   "metadata": {
    "tags": []
   },
   "outputs": [],
   "source": [
    "import requests\n",
    "\n",
    "url = 'http://xxx.xxx.azurecontainer.io/score'\n",
    "\n",
    "test_data = {\n",
    "  'data': [{\n",
    "    \"Age\": 20,\n",
    "    \"Sex\": \"male\",\n",
    "    \"Job\": 0,\n",
    "    \"Housing\": \"own\",\n",
    "    \"Saving accounts\": \"little\",\n",
    "    \"Checking account\": \"little\",\n",
    "    \"Credit amount\": 100,\n",
    "    \"Duration\": 48,\n",
    "    \"Purpose\": \"radio/TV\"\n",
    "  }]\n",
    "}\n",
    "\n",
    "headers = {'Content-Type': 'application/json'}\n",
    "response = requests.post(url, json=test_data, headers=headers)\n",
    "\n",
    "print(\"Prediction (good, bad):\", response.text)"
   ]
  },
  {
   "cell_type": "markdown",
   "metadata": {},
   "source": [
    "Test with AKS deployment:"
   ]
  },
  {
   "cell_type": "code",
   "execution_count": null,
   "metadata": {},
   "outputs": [],
   "source": [
    "import requests\n",
    "\n",
    "url = 'http://xxx/score'\n",
    "key = 'xxx'\n",
    "\n",
    "test_data = {\n",
    "  'data': [{\n",
    "    \"Age\": 20,\n",
    "    \"Sex\": \"male\",\n",
    "    \"Job\": 0,\n",
    "    \"Housing\": \"own\",\n",
    "    \"Saving accounts\": \"little\",\n",
    "    \"Checking account\": \"little\",\n",
    "    \"Credit amount\": 100,\n",
    "    \"Duration\": 48,\n",
    "    \"Purpose\": \"radio/TV\"\n",
    "  }]\n",
    "}\n",
    "\n",
    "headers = {'Content-Type': 'application/json',\n",
    "           'Authorization': f'Bearer {key}'}\n",
    "response = requests.post(url, json=test_data, headers=headers)\n",
    "\n",
    "print(\"Prediction (good, bad):\", response.text)"
   ]
  },
  {
   "cell_type": "code",
   "execution_count": null,
   "metadata": {},
   "outputs": [],
   "source": []
  }
 ],
 "metadata": {
  "kernelspec": {
   "display_name": "Python 3.6 - AzureML",
   "language": "python",
   "name": "python3-azureml"
  },
  "language_info": {
   "codemirror_mode": {
    "name": "ipython",
    "version": 3
   },
   "file_extension": ".py",
   "mimetype": "text/x-python",
   "name": "python",
   "nbconvert_exporter": "python",
   "pygments_lexer": "ipython3",
   "version": "3.6.9"
  }
 },
 "nbformat": 4,
 "nbformat_minor": 2
}
